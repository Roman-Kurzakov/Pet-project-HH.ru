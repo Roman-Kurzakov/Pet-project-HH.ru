{
 "cells": [
  {
   "cell_type": "code",
   "execution_count": 55,
   "metadata": {},
   "outputs": [],
   "source": [
    "import re\n",
    "import numpy as np\n",
    "import pandas as pd\n",
    "\n",
    "from matplotlib import pyplot as plt\n",
    "import seaborn as sns"
   ]
  },
  {
   "cell_type": "code",
   "execution_count": 56,
   "metadata": {},
   "outputs": [],
   "source": [
    "df = pd.read_csv('data/my_data_hh_51k.csv')\n",
    "df_12k = pd.read_csv('data/my_data_hh_0112_12k.csv')\n",
    "df_6k = pd.read_csv('data/my_data_hh_22_12_6000.csv')"
   ]
  },
  {
   "cell_type": "code",
   "execution_count": 57,
   "metadata": {},
   "outputs": [],
   "source": [
    "df_6k.drop('Unnamed: 0', axis=1, inplace=True)"
   ]
  },
  {
   "cell_type": "code",
   "execution_count": 58,
   "metadata": {},
   "outputs": [],
   "source": [
    "df = pd.concat([df, df_12k, df_6k])"
   ]
  },
  {
   "cell_type": "code",
   "execution_count": 59,
   "metadata": {},
   "outputs": [
    {
     "data": {
      "text/plain": [
       "(69911, 6)"
      ]
     },
     "execution_count": 59,
     "metadata": {},
     "output_type": "execute_result"
    }
   ],
   "source": [
    "df.shape"
   ]
  },
  {
   "cell_type": "code",
   "execution_count": 60,
   "metadata": {},
   "outputs": [],
   "source": [
    "df.query('title != \"None\"', inplace=True)"
   ]
  },
  {
   "cell_type": "code",
   "execution_count": 61,
   "metadata": {},
   "outputs": [],
   "source": [
    "df.reset_index(drop=True, inplace=True)"
   ]
  },
  {
   "cell_type": "code",
   "execution_count": 62,
   "metadata": {},
   "outputs": [
    {
     "data": {
      "text/html": [
       "<div>\n",
       "<style scoped>\n",
       "    .dataframe tbody tr th:only-of-type {\n",
       "        vertical-align: middle;\n",
       "    }\n",
       "\n",
       "    .dataframe tbody tr th {\n",
       "        vertical-align: top;\n",
       "    }\n",
       "\n",
       "    .dataframe thead th {\n",
       "        text-align: right;\n",
       "    }\n",
       "</style>\n",
       "<table border=\"1\" class=\"dataframe\">\n",
       "  <thead>\n",
       "    <tr style=\"text-align: right;\">\n",
       "      <th></th>\n",
       "      <th>id</th>\n",
       "      <th>title</th>\n",
       "      <th>description</th>\n",
       "      <th>salary</th>\n",
       "      <th>currency</th>\n",
       "      <th>compensation_type</th>\n",
       "    </tr>\n",
       "  </thead>\n",
       "  <tbody>\n",
       "    <tr>\n",
       "      <th>0</th>\n",
       "      <td>88005041</td>\n",
       "      <td>Оператор 1C</td>\n",
       "      <td>Обязанности:  Мы ищем сотрудника способного ра...</td>\n",
       "      <td>от 40 000 ₽ на руки</td>\n",
       "      <td>NaN</td>\n",
       "      <td>NaN</td>\n",
       "    </tr>\n",
       "    <tr>\n",
       "      <th>1</th>\n",
       "      <td>89427852</td>\n",
       "      <td>Инженер связи</td>\n",
       "      <td>ПРОСТОР Телеком представлен на рынке телекомму...</td>\n",
       "      <td>от 60 000 ₽ на руки</td>\n",
       "      <td>NaN</td>\n",
       "      <td>NaN</td>\n",
       "    </tr>\n",
       "    <tr>\n",
       "      <th>2</th>\n",
       "      <td>88891879</td>\n",
       "      <td>Редактор текстов в интернет-агентство</td>\n",
       "      <td>Привет! Меня зовут Станислав, я руководитель к...</td>\n",
       "      <td>до 20 000 ₽ на руки</td>\n",
       "      <td>NaN</td>\n",
       "      <td>NaN</td>\n",
       "    </tr>\n",
       "    <tr>\n",
       "      <th>3</th>\n",
       "      <td>88559265</td>\n",
       "      <td>Электрик-электронщик</td>\n",
       "      <td>Обязанности:  Обслуживание станков с ЧПУ    Тр...</td>\n",
       "      <td>до 80 000 ₽ на руки</td>\n",
       "      <td>NaN</td>\n",
       "      <td>NaN</td>\n",
       "    </tr>\n",
       "    <tr>\n",
       "      <th>4</th>\n",
       "      <td>89657110</td>\n",
       "      <td>Специалист по организации мероприятий (Event m...</td>\n",
       "      <td>Привет! Мы - gamedev студия SPL. С августа 202...</td>\n",
       "      <td>SPL</td>\n",
       "      <td>NaN</td>\n",
       "      <td>NaN</td>\n",
       "    </tr>\n",
       "  </tbody>\n",
       "</table>\n",
       "</div>"
      ],
      "text/plain": [
       "         id                                              title  \\\n",
       "0  88005041                                        Оператор 1C   \n",
       "1  89427852                                      Инженер связи   \n",
       "2  88891879              Редактор текстов в интернет-агентство   \n",
       "3  88559265                               Электрик-электронщик   \n",
       "4  89657110  Специалист по организации мероприятий (Event m...   \n",
       "\n",
       "                                         description               salary  \\\n",
       "0  Обязанности:  Мы ищем сотрудника способного ра...  от 40 000 ₽ на руки   \n",
       "1  ПРОСТОР Телеком представлен на рынке телекомму...  от 60 000 ₽ на руки   \n",
       "2  Привет! Меня зовут Станислав, я руководитель к...  до 20 000 ₽ на руки   \n",
       "3  Обязанности:  Обслуживание станков с ЧПУ    Тр...  до 80 000 ₽ на руки   \n",
       "4  Привет! Мы - gamedev студия SPL. С августа 202...                  SPL   \n",
       "\n",
       "   currency  compensation_type  \n",
       "0       NaN                NaN  \n",
       "1       NaN                NaN  \n",
       "2       NaN                NaN  \n",
       "3       NaN                NaN  \n",
       "4       NaN                NaN  "
      ]
     },
     "execution_count": 62,
     "metadata": {},
     "output_type": "execute_result"
    }
   ],
   "source": [
    "df.head()"
   ]
  },
  {
   "cell_type": "code",
   "execution_count": 64,
   "metadata": {},
   "outputs": [],
   "source": [
    "df['salary'] = df['salary'].apply(lambda x: str(x))"
   ]
  },
  {
   "cell_type": "code",
   "execution_count": 65,
   "metadata": {},
   "outputs": [],
   "source": [
    "def is_salary(str):\n",
    "    if re.findall('₽', str):\n",
    "        return 1\n",
    "    else:\n",
    "        return 0"
   ]
  },
  {
   "cell_type": "code",
   "execution_count": 67,
   "metadata": {},
   "outputs": [],
   "source": [
    "df['is_salary'] = df['salary'].apply(lambda x: is_salary(x))"
   ]
  },
  {
   "cell_type": "code",
   "execution_count": 68,
   "metadata": {},
   "outputs": [],
   "source": [
    "df.query('is_salary == 1', inplace=True)"
   ]
  },
  {
   "cell_type": "code",
   "execution_count": 69,
   "metadata": {},
   "outputs": [],
   "source": [
    "df.reset_index(drop=True, inplace=True)"
   ]
  },
  {
   "cell_type": "code",
   "execution_count": 70,
   "metadata": {},
   "outputs": [],
   "source": [
    "df.drop(['currency', 'is_salary'], axis=1, inplace=True)"
   ]
  },
  {
   "cell_type": "code",
   "execution_count": 71,
   "metadata": {},
   "outputs": [],
   "source": [
    "df.drop_duplicates('id', inplace=True, ignore_index=True)"
   ]
  },
  {
   "cell_type": "code",
   "execution_count": 72,
   "metadata": {},
   "outputs": [
    {
     "data": {
      "text/html": [
       "<div>\n",
       "<style scoped>\n",
       "    .dataframe tbody tr th:only-of-type {\n",
       "        vertical-align: middle;\n",
       "    }\n",
       "\n",
       "    .dataframe tbody tr th {\n",
       "        vertical-align: top;\n",
       "    }\n",
       "\n",
       "    .dataframe thead th {\n",
       "        text-align: right;\n",
       "    }\n",
       "</style>\n",
       "<table border=\"1\" class=\"dataframe\">\n",
       "  <thead>\n",
       "    <tr style=\"text-align: right;\">\n",
       "      <th></th>\n",
       "      <th>id</th>\n",
       "      <th>title</th>\n",
       "      <th>description</th>\n",
       "      <th>salary</th>\n",
       "      <th>compensation_type</th>\n",
       "    </tr>\n",
       "  </thead>\n",
       "  <tbody>\n",
       "    <tr>\n",
       "      <th>0</th>\n",
       "      <td>88005041</td>\n",
       "      <td>Оператор 1C</td>\n",
       "      <td>Обязанности:  Мы ищем сотрудника способного ра...</td>\n",
       "      <td>от 40 000 ₽ на руки</td>\n",
       "      <td>NaN</td>\n",
       "    </tr>\n",
       "    <tr>\n",
       "      <th>1</th>\n",
       "      <td>89427852</td>\n",
       "      <td>Инженер связи</td>\n",
       "      <td>ПРОСТОР Телеком представлен на рынке телекомму...</td>\n",
       "      <td>от 60 000 ₽ на руки</td>\n",
       "      <td>NaN</td>\n",
       "    </tr>\n",
       "    <tr>\n",
       "      <th>2</th>\n",
       "      <td>88891879</td>\n",
       "      <td>Редактор текстов в интернет-агентство</td>\n",
       "      <td>Привет! Меня зовут Станислав, я руководитель к...</td>\n",
       "      <td>до 20 000 ₽ на руки</td>\n",
       "      <td>NaN</td>\n",
       "    </tr>\n",
       "    <tr>\n",
       "      <th>3</th>\n",
       "      <td>88559265</td>\n",
       "      <td>Электрик-электронщик</td>\n",
       "      <td>Обязанности:  Обслуживание станков с ЧПУ    Тр...</td>\n",
       "      <td>до 80 000 ₽ на руки</td>\n",
       "      <td>NaN</td>\n",
       "    </tr>\n",
       "    <tr>\n",
       "      <th>4</th>\n",
       "      <td>89688196</td>\n",
       "      <td>Руководитель филиала</td>\n",
       "      <td>Лизинговая компания \"Смарт Лизинг\" предлагает ...</td>\n",
       "      <td>от 250 000 ₽ до вычета налогов</td>\n",
       "      <td>NaN</td>\n",
       "    </tr>\n",
       "    <tr>\n",
       "      <th>...</th>\n",
       "      <td>...</td>\n",
       "      <td>...</td>\n",
       "      <td>...</td>\n",
       "      <td>...</td>\n",
       "      <td>...</td>\n",
       "    </tr>\n",
       "    <tr>\n",
       "      <th>49872</th>\n",
       "      <td>90867875</td>\n",
       "      <td>Арт-директор парк-отель \"Хвоя\"</td>\n",
       "      <td>Обязанности:   Разработка и реализация концепц...</td>\n",
       "      <td>от 90 000 ₽ до вычета налогов</td>\n",
       "      <td>NaN</td>\n",
       "    </tr>\n",
       "    <tr>\n",
       "      <th>49873</th>\n",
       "      <td>89592349</td>\n",
       "      <td>Оператор производственной линии</td>\n",
       "      <td>Рассмотрим как опытных кандидатов, так и начин...</td>\n",
       "      <td>от 60 000 до 75 000 ₽ на руки</td>\n",
       "      <td>NaN</td>\n",
       "    </tr>\n",
       "    <tr>\n",
       "      <th>49874</th>\n",
       "      <td>90832060</td>\n",
       "      <td>Сварщик на полуавтомат</td>\n",
       "      <td>Обязанности:- Сварка на п/а машинах- Зачистка ...</td>\n",
       "      <td>от 160 000 до 178 000 ₽ на руки</td>\n",
       "      <td>NaN</td>\n",
       "    </tr>\n",
       "    <tr>\n",
       "      <th>49875</th>\n",
       "      <td>90756576</td>\n",
       "      <td>СОТРУДНИК СКЛАДА (график 2/2 , возможна подраб...</td>\n",
       "      <td>СОТРУДНИК СКЛАДА (график 2/2 , возможна подраб...</td>\n",
       "      <td>от 79 429 ₽ на руки</td>\n",
       "      <td>NaN</td>\n",
       "    </tr>\n",
       "    <tr>\n",
       "      <th>49876</th>\n",
       "      <td>90411758</td>\n",
       "      <td>Диспетчер чатов, удаленно</td>\n",
       "      <td>Постройте вашу карьеру в Яндекс. Необходимо бу...</td>\n",
       "      <td>от 30 000 до 44 000 ₽ до вычета налогов</td>\n",
       "      <td>NaN</td>\n",
       "    </tr>\n",
       "  </tbody>\n",
       "</table>\n",
       "<p>49877 rows × 5 columns</p>\n",
       "</div>"
      ],
      "text/plain": [
       "             id                                              title  \\\n",
       "0      88005041                                        Оператор 1C   \n",
       "1      89427852                                      Инженер связи   \n",
       "2      88891879              Редактор текстов в интернет-агентство   \n",
       "3      88559265                               Электрик-электронщик   \n",
       "4      89688196                               Руководитель филиала   \n",
       "...         ...                                                ...   \n",
       "49872  90867875                     Арт-директор парк-отель \"Хвоя\"   \n",
       "49873  89592349                    Оператор производственной линии   \n",
       "49874  90832060                             Сварщик на полуавтомат   \n",
       "49875  90756576  СОТРУДНИК СКЛАДА (график 2/2 , возможна подраб...   \n",
       "49876  90411758                          Диспетчер чатов, удаленно   \n",
       "\n",
       "                                             description  \\\n",
       "0      Обязанности:  Мы ищем сотрудника способного ра...   \n",
       "1      ПРОСТОР Телеком представлен на рынке телекомму...   \n",
       "2      Привет! Меня зовут Станислав, я руководитель к...   \n",
       "3      Обязанности:  Обслуживание станков с ЧПУ    Тр...   \n",
       "4      Лизинговая компания \"Смарт Лизинг\" предлагает ...   \n",
       "...                                                  ...   \n",
       "49872  Обязанности:   Разработка и реализация концепц...   \n",
       "49873  Рассмотрим как опытных кандидатов, так и начин...   \n",
       "49874  Обязанности:- Сварка на п/а машинах- Зачистка ...   \n",
       "49875  СОТРУДНИК СКЛАДА (график 2/2 , возможна подраб...   \n",
       "49876  Постройте вашу карьеру в Яндекс. Необходимо бу...   \n",
       "\n",
       "                                        salary  compensation_type  \n",
       "0                          от 40 000 ₽ на руки                NaN  \n",
       "1                          от 60 000 ₽ на руки                NaN  \n",
       "2                          до 20 000 ₽ на руки                NaN  \n",
       "3                          до 80 000 ₽ на руки                NaN  \n",
       "4               от 250 000 ₽ до вычета налогов                NaN  \n",
       "...                                        ...                ...  \n",
       "49872            от 90 000 ₽ до вычета налогов                NaN  \n",
       "49873            от 60 000 до 75 000 ₽ на руки                NaN  \n",
       "49874          от 160 000 до 178 000 ₽ на руки                NaN  \n",
       "49875                      от 79 429 ₽ на руки                NaN  \n",
       "49876  от 30 000 до 44 000 ₽ до вычета налогов                NaN  \n",
       "\n",
       "[49877 rows x 5 columns]"
      ]
     },
     "execution_count": 72,
     "metadata": {},
     "output_type": "execute_result"
    }
   ],
   "source": [
    "df"
   ]
  },
  {
   "cell_type": "code",
   "execution_count": 73,
   "metadata": {},
   "outputs": [],
   "source": [
    "def comp_type(salary):\n",
    "    \n",
    "    c_type = re.findall(r'₽.+', salary)\n",
    "    \n",
    "    if c_type:\n",
    "        return c_type[0][2:]\n",
    "    else:\n",
    "        pass"
   ]
  },
  {
   "cell_type": "code",
   "execution_count": 74,
   "metadata": {},
   "outputs": [],
   "source": [
    "df['compensation_type'] = df['salary'].apply(lambda x: comp_type(x))"
   ]
  },
  {
   "cell_type": "code",
   "execution_count": 75,
   "metadata": {},
   "outputs": [
    {
     "data": {
      "text/html": [
       "<div>\n",
       "<style scoped>\n",
       "    .dataframe tbody tr th:only-of-type {\n",
       "        vertical-align: middle;\n",
       "    }\n",
       "\n",
       "    .dataframe tbody tr th {\n",
       "        vertical-align: top;\n",
       "    }\n",
       "\n",
       "    .dataframe thead th {\n",
       "        text-align: right;\n",
       "    }\n",
       "</style>\n",
       "<table border=\"1\" class=\"dataframe\">\n",
       "  <thead>\n",
       "    <tr style=\"text-align: right;\">\n",
       "      <th></th>\n",
       "      <th>id</th>\n",
       "      <th>title</th>\n",
       "      <th>description</th>\n",
       "      <th>salary</th>\n",
       "      <th>compensation_type</th>\n",
       "    </tr>\n",
       "  </thead>\n",
       "  <tbody>\n",
       "    <tr>\n",
       "      <th>0</th>\n",
       "      <td>88005041</td>\n",
       "      <td>Оператор 1C</td>\n",
       "      <td>Обязанности:  Мы ищем сотрудника способного ра...</td>\n",
       "      <td>от 40 000 ₽ на руки</td>\n",
       "      <td>на руки</td>\n",
       "    </tr>\n",
       "    <tr>\n",
       "      <th>1</th>\n",
       "      <td>89427852</td>\n",
       "      <td>Инженер связи</td>\n",
       "      <td>ПРОСТОР Телеком представлен на рынке телекомму...</td>\n",
       "      <td>от 60 000 ₽ на руки</td>\n",
       "      <td>на руки</td>\n",
       "    </tr>\n",
       "    <tr>\n",
       "      <th>2</th>\n",
       "      <td>88891879</td>\n",
       "      <td>Редактор текстов в интернет-агентство</td>\n",
       "      <td>Привет! Меня зовут Станислав, я руководитель к...</td>\n",
       "      <td>до 20 000 ₽ на руки</td>\n",
       "      <td>на руки</td>\n",
       "    </tr>\n",
       "    <tr>\n",
       "      <th>3</th>\n",
       "      <td>88559265</td>\n",
       "      <td>Электрик-электронщик</td>\n",
       "      <td>Обязанности:  Обслуживание станков с ЧПУ    Тр...</td>\n",
       "      <td>до 80 000 ₽ на руки</td>\n",
       "      <td>на руки</td>\n",
       "    </tr>\n",
       "    <tr>\n",
       "      <th>4</th>\n",
       "      <td>89688196</td>\n",
       "      <td>Руководитель филиала</td>\n",
       "      <td>Лизинговая компания \"Смарт Лизинг\" предлагает ...</td>\n",
       "      <td>от 250 000 ₽ до вычета налогов</td>\n",
       "      <td>до вычета налогов</td>\n",
       "    </tr>\n",
       "  </tbody>\n",
       "</table>\n",
       "</div>"
      ],
      "text/plain": [
       "         id                                  title  \\\n",
       "0  88005041                            Оператор 1C   \n",
       "1  89427852                          Инженер связи   \n",
       "2  88891879  Редактор текстов в интернет-агентство   \n",
       "3  88559265                   Электрик-электронщик   \n",
       "4  89688196                   Руководитель филиала   \n",
       "\n",
       "                                         description  \\\n",
       "0  Обязанности:  Мы ищем сотрудника способного ра...   \n",
       "1  ПРОСТОР Телеком представлен на рынке телекомму...   \n",
       "2  Привет! Меня зовут Станислав, я руководитель к...   \n",
       "3  Обязанности:  Обслуживание станков с ЧПУ    Тр...   \n",
       "4  Лизинговая компания \"Смарт Лизинг\" предлагает ...   \n",
       "\n",
       "                           salary  compensation_type  \n",
       "0             от 40 000 ₽ на руки            на руки  \n",
       "1             от 60 000 ₽ на руки            на руки  \n",
       "2             до 20 000 ₽ на руки            на руки  \n",
       "3             до 80 000 ₽ на руки            на руки  \n",
       "4  от 250 000 ₽ до вычета налогов  до вычета налогов  "
      ]
     },
     "execution_count": 75,
     "metadata": {},
     "output_type": "execute_result"
    }
   ],
   "source": [
    "df.head()"
   ]
  },
  {
   "cell_type": "code",
   "execution_count": 76,
   "metadata": {},
   "outputs": [
    {
     "data": {
      "text/plain": [
       "compensation_type\n",
       "на руки              34246\n",
       "до вычета налогов    15614\n",
       "Name: count, dtype: int64"
      ]
     },
     "execution_count": 76,
     "metadata": {},
     "output_type": "execute_result"
    }
   ],
   "source": [
    "df['compensation_type'].value_counts()"
   ]
  },
  {
   "cell_type": "code",
   "execution_count": 77,
   "metadata": {},
   "outputs": [],
   "source": [
    "def get_min_salary(str):\n",
    "    min_sal = re.findall(r'от \\d+\\s\\d+', str)\n",
    "    \n",
    "    if min_sal:\n",
    "        min_sal = re.sub(' ', '', min_sal[0])[2:]\n",
    "        min_sal = min_sal.strip(' ')\n",
    "        min_sal = min_sal.replace('\\xa0', '')\n",
    "        return min_sal\n",
    "    else:\n",
    "        return np.nan"
   ]
  },
  {
   "cell_type": "code",
   "execution_count": 78,
   "metadata": {},
   "outputs": [],
   "source": [
    "df['min_salary'] = df['salary'].apply(lambda x: get_min_salary(x))"
   ]
  },
  {
   "cell_type": "code",
   "execution_count": 79,
   "metadata": {},
   "outputs": [],
   "source": [
    "def get_max_salary(str):\n",
    "    max_sal = re.findall(r'до \\d+\\s\\d+', str)\n",
    "    \n",
    "    if max_sal:\n",
    "        max_sal = re.sub(' ', '', max_sal[0])[2:]\n",
    "        max_sal = max_sal.strip(' ')\n",
    "        max_sal = max_sal.replace('\\xa0', '')\n",
    "        return max_sal\n",
    "    else:\n",
    "        return np.nan"
   ]
  },
  {
   "cell_type": "code",
   "execution_count": 80,
   "metadata": {},
   "outputs": [],
   "source": [
    "df['max_salary'] = df['salary'].apply(lambda x: get_max_salary(x))"
   ]
  },
  {
   "cell_type": "code",
   "execution_count": 82,
   "metadata": {},
   "outputs": [
    {
     "data": {
      "text/html": [
       "<div>\n",
       "<style scoped>\n",
       "    .dataframe tbody tr th:only-of-type {\n",
       "        vertical-align: middle;\n",
       "    }\n",
       "\n",
       "    .dataframe tbody tr th {\n",
       "        vertical-align: top;\n",
       "    }\n",
       "\n",
       "    .dataframe thead th {\n",
       "        text-align: right;\n",
       "    }\n",
       "</style>\n",
       "<table border=\"1\" class=\"dataframe\">\n",
       "  <thead>\n",
       "    <tr style=\"text-align: right;\">\n",
       "      <th></th>\n",
       "      <th>id</th>\n",
       "      <th>title</th>\n",
       "      <th>description</th>\n",
       "      <th>salary</th>\n",
       "      <th>compensation_type</th>\n",
       "      <th>min_salary</th>\n",
       "      <th>max_salary</th>\n",
       "    </tr>\n",
       "  </thead>\n",
       "  <tbody>\n",
       "    <tr>\n",
       "      <th>0</th>\n",
       "      <td>88005041</td>\n",
       "      <td>Оператор 1C</td>\n",
       "      <td>Обязанности:  Мы ищем сотрудника способного ра...</td>\n",
       "      <td>от 40 000 ₽ на руки</td>\n",
       "      <td>на руки</td>\n",
       "      <td>40000</td>\n",
       "      <td>NaN</td>\n",
       "    </tr>\n",
       "    <tr>\n",
       "      <th>1</th>\n",
       "      <td>89427852</td>\n",
       "      <td>Инженер связи</td>\n",
       "      <td>ПРОСТОР Телеком представлен на рынке телекомму...</td>\n",
       "      <td>от 60 000 ₽ на руки</td>\n",
       "      <td>на руки</td>\n",
       "      <td>60000</td>\n",
       "      <td>NaN</td>\n",
       "    </tr>\n",
       "    <tr>\n",
       "      <th>2</th>\n",
       "      <td>88891879</td>\n",
       "      <td>Редактор текстов в интернет-агентство</td>\n",
       "      <td>Привет! Меня зовут Станислав, я руководитель к...</td>\n",
       "      <td>до 20 000 ₽ на руки</td>\n",
       "      <td>на руки</td>\n",
       "      <td>NaN</td>\n",
       "      <td>20000</td>\n",
       "    </tr>\n",
       "    <tr>\n",
       "      <th>3</th>\n",
       "      <td>88559265</td>\n",
       "      <td>Электрик-электронщик</td>\n",
       "      <td>Обязанности:  Обслуживание станков с ЧПУ    Тр...</td>\n",
       "      <td>до 80 000 ₽ на руки</td>\n",
       "      <td>на руки</td>\n",
       "      <td>NaN</td>\n",
       "      <td>80000</td>\n",
       "    </tr>\n",
       "    <tr>\n",
       "      <th>4</th>\n",
       "      <td>89688196</td>\n",
       "      <td>Руководитель филиала</td>\n",
       "      <td>Лизинговая компания \"Смарт Лизинг\" предлагает ...</td>\n",
       "      <td>от 250 000 ₽ до вычета налогов</td>\n",
       "      <td>до вычета налогов</td>\n",
       "      <td>250000</td>\n",
       "      <td>NaN</td>\n",
       "    </tr>\n",
       "  </tbody>\n",
       "</table>\n",
       "</div>"
      ],
      "text/plain": [
       "         id                                  title  \\\n",
       "0  88005041                            Оператор 1C   \n",
       "1  89427852                          Инженер связи   \n",
       "2  88891879  Редактор текстов в интернет-агентство   \n",
       "3  88559265                   Электрик-электронщик   \n",
       "4  89688196                   Руководитель филиала   \n",
       "\n",
       "                                         description  \\\n",
       "0  Обязанности:  Мы ищем сотрудника способного ра...   \n",
       "1  ПРОСТОР Телеком представлен на рынке телекомму...   \n",
       "2  Привет! Меня зовут Станислав, я руководитель к...   \n",
       "3  Обязанности:  Обслуживание станков с ЧПУ    Тр...   \n",
       "4  Лизинговая компания \"Смарт Лизинг\" предлагает ...   \n",
       "\n",
       "                           salary  compensation_type min_salary max_salary  \n",
       "0             от 40 000 ₽ на руки            на руки      40000        NaN  \n",
       "1             от 60 000 ₽ на руки            на руки      60000        NaN  \n",
       "2             до 20 000 ₽ на руки            на руки        NaN      20000  \n",
       "3             до 80 000 ₽ на руки            на руки        NaN      80000  \n",
       "4  от 250 000 ₽ до вычета налогов  до вычета налогов     250000        NaN  "
      ]
     },
     "execution_count": 82,
     "metadata": {},
     "output_type": "execute_result"
    }
   ],
   "source": [
    "df.head()"
   ]
  },
  {
   "cell_type": "code",
   "execution_count": 83,
   "metadata": {},
   "outputs": [],
   "source": [
    "df.drop('salary', axis=1, inplace=True)"
   ]
  },
  {
   "cell_type": "code",
   "execution_count": 84,
   "metadata": {},
   "outputs": [],
   "source": [
    "what_k = df.shape[0] // 1000"
   ]
  },
  {
   "cell_type": "code",
   "execution_count": 85,
   "metadata": {},
   "outputs": [
    {
     "data": {
      "text/plain": [
       "49877"
      ]
     },
     "execution_count": 85,
     "metadata": {},
     "output_type": "execute_result"
    }
   ],
   "source": [
    "df['id'].nunique()"
   ]
  },
  {
   "cell_type": "code",
   "execution_count": 86,
   "metadata": {},
   "outputs": [],
   "source": [
    "df.to_csv(f'data/cleaned_hh_data_{what_k}k.csv', index=False)"
   ]
  },
  {
   "cell_type": "markdown",
   "metadata": {},
   "source": [
    " ### Сохранил промежуточный результат для публикации датасета.\n",
    " ### Далее пытаюсь диапазон зп привести к одному численному таргету."
   ]
  },
  {
   "cell_type": "code",
   "execution_count": 87,
   "metadata": {},
   "outputs": [],
   "source": [
    "df['min_salary'] = df['min_salary'].apply(lambda x: 0 if (x is np.nan) else x)\n",
    "df['max_salary'] = df['max_salary'].apply(lambda x: 0 if (x is np.nan) else x)"
   ]
  },
  {
   "cell_type": "code",
   "execution_count": 88,
   "metadata": {},
   "outputs": [],
   "source": [
    "df['min_salary'] = df['min_salary'].apply(lambda x: int(x))\n",
    "df['max_salary'] = df['max_salary'].apply(lambda x: int(x))"
   ]
  },
  {
   "cell_type": "code",
   "execution_count": 89,
   "metadata": {},
   "outputs": [
    {
     "data": {
      "text/html": [
       "<div>\n",
       "<style scoped>\n",
       "    .dataframe tbody tr th:only-of-type {\n",
       "        vertical-align: middle;\n",
       "    }\n",
       "\n",
       "    .dataframe tbody tr th {\n",
       "        vertical-align: top;\n",
       "    }\n",
       "\n",
       "    .dataframe thead th {\n",
       "        text-align: right;\n",
       "    }\n",
       "</style>\n",
       "<table border=\"1\" class=\"dataframe\">\n",
       "  <thead>\n",
       "    <tr style=\"text-align: right;\">\n",
       "      <th></th>\n",
       "      <th>id</th>\n",
       "      <th>title</th>\n",
       "      <th>description</th>\n",
       "      <th>compensation_type</th>\n",
       "      <th>min_salary</th>\n",
       "      <th>max_salary</th>\n",
       "    </tr>\n",
       "  </thead>\n",
       "  <tbody>\n",
       "    <tr>\n",
       "      <th>0</th>\n",
       "      <td>88005041</td>\n",
       "      <td>Оператор 1C</td>\n",
       "      <td>Обязанности:  Мы ищем сотрудника способного ра...</td>\n",
       "      <td>на руки</td>\n",
       "      <td>40000</td>\n",
       "      <td>0</td>\n",
       "    </tr>\n",
       "    <tr>\n",
       "      <th>1</th>\n",
       "      <td>89427852</td>\n",
       "      <td>Инженер связи</td>\n",
       "      <td>ПРОСТОР Телеком представлен на рынке телекомму...</td>\n",
       "      <td>на руки</td>\n",
       "      <td>60000</td>\n",
       "      <td>0</td>\n",
       "    </tr>\n",
       "    <tr>\n",
       "      <th>2</th>\n",
       "      <td>88891879</td>\n",
       "      <td>Редактор текстов в интернет-агентство</td>\n",
       "      <td>Привет! Меня зовут Станислав, я руководитель к...</td>\n",
       "      <td>на руки</td>\n",
       "      <td>0</td>\n",
       "      <td>20000</td>\n",
       "    </tr>\n",
       "    <tr>\n",
       "      <th>3</th>\n",
       "      <td>88559265</td>\n",
       "      <td>Электрик-электронщик</td>\n",
       "      <td>Обязанности:  Обслуживание станков с ЧПУ    Тр...</td>\n",
       "      <td>на руки</td>\n",
       "      <td>0</td>\n",
       "      <td>80000</td>\n",
       "    </tr>\n",
       "    <tr>\n",
       "      <th>4</th>\n",
       "      <td>89688196</td>\n",
       "      <td>Руководитель филиала</td>\n",
       "      <td>Лизинговая компания \"Смарт Лизинг\" предлагает ...</td>\n",
       "      <td>до вычета налогов</td>\n",
       "      <td>250000</td>\n",
       "      <td>0</td>\n",
       "    </tr>\n",
       "  </tbody>\n",
       "</table>\n",
       "</div>"
      ],
      "text/plain": [
       "         id                                  title  \\\n",
       "0  88005041                            Оператор 1C   \n",
       "1  89427852                          Инженер связи   \n",
       "2  88891879  Редактор текстов в интернет-агентство   \n",
       "3  88559265                   Электрик-электронщик   \n",
       "4  89688196                   Руководитель филиала   \n",
       "\n",
       "                                         description  compensation_type  \\\n",
       "0  Обязанности:  Мы ищем сотрудника способного ра...            на руки   \n",
       "1  ПРОСТОР Телеком представлен на рынке телекомму...            на руки   \n",
       "2  Привет! Меня зовут Станислав, я руководитель к...            на руки   \n",
       "3  Обязанности:  Обслуживание станков с ЧПУ    Тр...            на руки   \n",
       "4  Лизинговая компания \"Смарт Лизинг\" предлагает ...  до вычета налогов   \n",
       "\n",
       "   min_salary  max_salary  \n",
       "0       40000           0  \n",
       "1       60000           0  \n",
       "2           0       20000  \n",
       "3           0       80000  \n",
       "4      250000           0  "
      ]
     },
     "execution_count": 89,
     "metadata": {},
     "output_type": "execute_result"
    }
   ],
   "source": [
    "df.head()"
   ]
  },
  {
   "cell_type": "code",
   "execution_count": 90,
   "metadata": {},
   "outputs": [],
   "source": [
    "def get_mean_salary(df_row):\n",
    "    if df_row['min_salary'] == 0:\n",
    "        mean_salary = df_row['max_salary']\n",
    "    elif df_row['max_salary'] == 0:\n",
    "        mean_salary = df_row['min_salary']\n",
    "    else:\n",
    "        mean_salary = (df_row['min_salary'] + df_row['max_salary']) /2\n",
    "        \n",
    "    return mean_salary"
   ]
  },
  {
   "cell_type": "code",
   "execution_count": 91,
   "metadata": {},
   "outputs": [],
   "source": [
    "df['mean_salary'] = df.apply(\n",
    "    lambda x: get_mean_salary(x), axis=1\n",
    "    )"
   ]
  },
  {
   "cell_type": "code",
   "execution_count": 92,
   "metadata": {},
   "outputs": [],
   "source": [
    "df['compensation_type'].fillna('на руки', inplace=True)"
   ]
  },
  {
   "cell_type": "code",
   "execution_count": 93,
   "metadata": {},
   "outputs": [
    {
     "name": "stdout",
     "output_type": "stream",
     "text": [
      "<class 'pandas.core.frame.DataFrame'>\n",
      "RangeIndex: 49877 entries, 0 to 49876\n",
      "Data columns (total 7 columns):\n",
      " #   Column             Non-Null Count  Dtype  \n",
      "---  ------             --------------  -----  \n",
      " 0   id                 49877 non-null  int64  \n",
      " 1   title              49877 non-null  object \n",
      " 2   description        49745 non-null  object \n",
      " 3   compensation_type  49877 non-null  object \n",
      " 4   min_salary         49877 non-null  int64  \n",
      " 5   max_salary         49877 non-null  int64  \n",
      " 6   mean_salary        49877 non-null  float64\n",
      "dtypes: float64(1), int64(3), object(3)\n",
      "memory usage: 2.7+ MB\n"
     ]
    }
   ],
   "source": [
    "df.info()"
   ]
  },
  {
   "cell_type": "markdown",
   "metadata": {},
   "source": [
    "### Нормализую ЗП с учетом типа компенсации."
   ]
  },
  {
   "cell_type": "code",
   "execution_count": 94,
   "metadata": {},
   "outputs": [],
   "source": [
    "df['salary'] = df.apply(\n",
    "    lambda x: (x['mean_salary'] * 0.87) if x['compensation_type'] == 'до вычета налогов' else x['mean_salary'],\n",
    "    axis=1\n",
    "    )"
   ]
  },
  {
   "cell_type": "code",
   "execution_count": 95,
   "metadata": {},
   "outputs": [
    {
     "data": {
      "text/html": [
       "<div>\n",
       "<style scoped>\n",
       "    .dataframe tbody tr th:only-of-type {\n",
       "        vertical-align: middle;\n",
       "    }\n",
       "\n",
       "    .dataframe tbody tr th {\n",
       "        vertical-align: top;\n",
       "    }\n",
       "\n",
       "    .dataframe thead th {\n",
       "        text-align: right;\n",
       "    }\n",
       "</style>\n",
       "<table border=\"1\" class=\"dataframe\">\n",
       "  <thead>\n",
       "    <tr style=\"text-align: right;\">\n",
       "      <th></th>\n",
       "      <th>id</th>\n",
       "      <th>title</th>\n",
       "      <th>description</th>\n",
       "      <th>compensation_type</th>\n",
       "      <th>min_salary</th>\n",
       "      <th>max_salary</th>\n",
       "      <th>mean_salary</th>\n",
       "      <th>salary</th>\n",
       "    </tr>\n",
       "  </thead>\n",
       "  <tbody>\n",
       "    <tr>\n",
       "      <th>0</th>\n",
       "      <td>88005041</td>\n",
       "      <td>Оператор 1C</td>\n",
       "      <td>Обязанности:  Мы ищем сотрудника способного ра...</td>\n",
       "      <td>на руки</td>\n",
       "      <td>40000</td>\n",
       "      <td>0</td>\n",
       "      <td>40000.0</td>\n",
       "      <td>40000.0</td>\n",
       "    </tr>\n",
       "    <tr>\n",
       "      <th>1</th>\n",
       "      <td>89427852</td>\n",
       "      <td>Инженер связи</td>\n",
       "      <td>ПРОСТОР Телеком представлен на рынке телекомму...</td>\n",
       "      <td>на руки</td>\n",
       "      <td>60000</td>\n",
       "      <td>0</td>\n",
       "      <td>60000.0</td>\n",
       "      <td>60000.0</td>\n",
       "    </tr>\n",
       "    <tr>\n",
       "      <th>2</th>\n",
       "      <td>88891879</td>\n",
       "      <td>Редактор текстов в интернет-агентство</td>\n",
       "      <td>Привет! Меня зовут Станислав, я руководитель к...</td>\n",
       "      <td>на руки</td>\n",
       "      <td>0</td>\n",
       "      <td>20000</td>\n",
       "      <td>20000.0</td>\n",
       "      <td>20000.0</td>\n",
       "    </tr>\n",
       "    <tr>\n",
       "      <th>3</th>\n",
       "      <td>88559265</td>\n",
       "      <td>Электрик-электронщик</td>\n",
       "      <td>Обязанности:  Обслуживание станков с ЧПУ    Тр...</td>\n",
       "      <td>на руки</td>\n",
       "      <td>0</td>\n",
       "      <td>80000</td>\n",
       "      <td>80000.0</td>\n",
       "      <td>80000.0</td>\n",
       "    </tr>\n",
       "    <tr>\n",
       "      <th>4</th>\n",
       "      <td>89688196</td>\n",
       "      <td>Руководитель филиала</td>\n",
       "      <td>Лизинговая компания \"Смарт Лизинг\" предлагает ...</td>\n",
       "      <td>до вычета налогов</td>\n",
       "      <td>250000</td>\n",
       "      <td>0</td>\n",
       "      <td>250000.0</td>\n",
       "      <td>217500.0</td>\n",
       "    </tr>\n",
       "  </tbody>\n",
       "</table>\n",
       "</div>"
      ],
      "text/plain": [
       "         id                                  title  \\\n",
       "0  88005041                            Оператор 1C   \n",
       "1  89427852                          Инженер связи   \n",
       "2  88891879  Редактор текстов в интернет-агентство   \n",
       "3  88559265                   Электрик-электронщик   \n",
       "4  89688196                   Руководитель филиала   \n",
       "\n",
       "                                         description  compensation_type  \\\n",
       "0  Обязанности:  Мы ищем сотрудника способного ра...            на руки   \n",
       "1  ПРОСТОР Телеком представлен на рынке телекомму...            на руки   \n",
       "2  Привет! Меня зовут Станислав, я руководитель к...            на руки   \n",
       "3  Обязанности:  Обслуживание станков с ЧПУ    Тр...            на руки   \n",
       "4  Лизинговая компания \"Смарт Лизинг\" предлагает ...  до вычета налогов   \n",
       "\n",
       "   min_salary  max_salary  mean_salary    salary  \n",
       "0       40000           0      40000.0   40000.0  \n",
       "1       60000           0      60000.0   60000.0  \n",
       "2           0       20000      20000.0   20000.0  \n",
       "3           0       80000      80000.0   80000.0  \n",
       "4      250000           0     250000.0  217500.0  "
      ]
     },
     "execution_count": 95,
     "metadata": {},
     "output_type": "execute_result"
    }
   ],
   "source": [
    "df.head()"
   ]
  },
  {
   "cell_type": "code",
   "execution_count": 96,
   "metadata": {},
   "outputs": [],
   "source": [
    "df.drop(['min_salary', 'max_salary', 'mean_salary'], axis=1, inplace=True)"
   ]
  },
  {
   "cell_type": "code",
   "execution_count": 97,
   "metadata": {},
   "outputs": [],
   "source": [
    "df.to_csv(f'data/cleaned_hh_data_for_modelling_{what_k}k.csv', index=False)"
   ]
  }
 ],
 "metadata": {
  "kernelspec": {
   "display_name": "Python 3",
   "language": "python",
   "name": "python3"
  },
  "language_info": {
   "codemirror_mode": {
    "name": "ipython",
    "version": 3
   },
   "file_extension": ".py",
   "mimetype": "text/x-python",
   "name": "python",
   "nbconvert_exporter": "python",
   "pygments_lexer": "ipython3",
   "version": "3.10.12"
  }
 },
 "nbformat": 4,
 "nbformat_minor": 2
}
